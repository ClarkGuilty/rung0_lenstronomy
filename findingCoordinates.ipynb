{
 "cells": [
  {
   "cell_type": "code",
   "execution_count": 1,
   "metadata": {
    "scrolled": true
   },
   "outputs": [
    {
     "name": "stdout",
     "output_type": "stream",
     "text": [
      "'catalogue modelling.ipynb'   Rung004.ipynb\r\n",
      " ds9\t\t\t      rung0_open_box.tar.gz\r\n",
      " lens_equation.ipynb\t      rung0.tar.gz\r\n",
      " README.md\t\t      substructure_challenge_simple.ipynb\r\n",
      " rung0\t\t\t      Untitled1.ipynb\r\n",
      " Rung0\t\t\t      Untitled.ipynb\r\n",
      " Rung003.ipynb\r\n"
     ]
    }
   ],
   "source": [
    "!ls\n",
    "import numpy as np\n",
    "import matplotlib.pyplot as plt\n",
    "import lenstronomy as lens\n"
   ]
  },
  {
   "cell_type": "code",
   "execution_count": 4,
   "metadata": {},
   "outputs": [
    {
     "name": "stdout",
     "output_type": "stream",
     "text": [
      "lens-image.fits  noise_map.fits  psf.fits\r\n"
     ]
    }
   ],
   "source": [
    "!ls rung0/code1/f160w-seed3/drizzled_image/"
   ]
  },
  {
   "cell_type": "code",
   "execution_count": 7,
   "metadata": {},
   "outputs": [],
   "source": [
    "from astropy.utils.data import download_file\n",
    "from astropy.io import fits\n",
    "\n",
    "path = 'rung0/code1/f160w-seed3/'\n",
    "\n",
    "im_lens = []\n",
    "im_psf = []\n",
    "for i in range(1,9):\n",
    "    im_lens.append(fits.getdata(path+\"non_drizzled-lens-image-\"+str(i)+\".fits\"))\n",
    "    im_psf.append(fits.getdata(path+\"non_drizzled_psf-\"+str(i)+\".fits\"))\n",
    "#plt.imshow(test[0].data,cmap = 'gray')\n",
    "    \n",
    "di_lens = fits.getdata(path+'/drizzled_image/lens-image.fits')    \n",
    "di_psf = fits.getdata(path+'/drizzled_image/psf.fits')    \n",
    "\n",
    "im_lens = np.array(im_lens)\n",
    "im_psf = np.array(im_psf)"
   ]
  },
  {
   "cell_type": "code",
   "execution_count": 13,
   "metadata": {
    "scrolled": true
   },
   "outputs": [
    {
     "data": {
      "text/plain": [
       "(59, 59)"
      ]
     },
     "execution_count": 13,
     "metadata": {},
     "output_type": "execute_result"
    },
    {
     "data": {
      "image/png": "[encoded data removed]",
      "text/plain": [
       "<Figure size 432x288 with 2 Axes>"
      ]
     },
     "metadata": {
      "needs_background": "light"
     },
     "output_type": "display_data"
    }
   ],
   "source": [
    "plt.subplot(121)\n",
    "plt.imshow(di_lens,cmap='gray')\n",
    "\n",
    "plt.subplot(122)\n",
    "plt.imshow(di_psf,cmap='gray')\n",
    "#plt.imshow(im_psf.sum(axis=0),cmap='gray')\n",
    "\n",
    "im_lens.sum(axis=0).shape\n",
    "\n",
    "\n",
    "\n",
    "\n"
   ]
  },
  {
   "cell_type": "code",
   "execution_count": 36,
   "metadata": {},
   "outputs": [
    {
     "data": {
      "text/plain": [
       "<matplotlib.image.AxesImage at 0x7fa3de6d8630>"
      ]
     },
     "execution_count": 36,
     "metadata": {},
     "output_type": "execute_result"
    },
    {
     "data": {
      "image/png": "[encoded data removed]",
      "text/plain": [
       "<Figure size 432x288 with 1 Axes>"
      ]
     },
     "metadata": {
      "needs_background": "light"
     },
     "output_type": "display_data"
    }
   ],
   "source": [
    "plt.subplot(121)\n",
    "difference = di_lens-di_psf\n",
    "plt.imshow(difference,cmap='gray')\n",
    "\n",
    "\n",
    "#plt.imshow(di_psf,cmap='gray')\n",
    "#plt.imshow(im_psf.sum(axis=0),cmap='gray')\n",
    "\n"
   ]
  },
  {
   "cell_type": "code",
   "execution_count": 40,
   "metadata": {},
   "outputs": [
    {
     "name": "stdout",
     "output_type": "stream",
     "text": [
      "49\n"
     ]
    },
    {
     "data": {
      "image/png": "[encoded data removed]",
      "text/plain": [
       "<Figure size 432x288 with 1 Axes>"
      ]
     },
     "metadata": {
      "needs_background": "light"
     },
     "output_type": "display_data"
    }
   ],
   "source": [
    "centralLine = di_psf[49,:]\n",
    "plt.plot(centralLine)\n",
    "print(np.argmax(centralLine))"
   ]
  },
  {
   "cell_type": "code",
   "execution_count": 6,
   "metadata": {},
   "outputs": [],
   "source": [
    "# import the LensModel class #\n",
    "from lenstronomy.LensModel.lens_model import LensModel\n",
    "\n",
    "# specify the choice of lens models #\n",
    "lens_model_list = ['SPEP', 'SHEAR_GAMMA_PSI', 'SIS']\n",
    "\n",
    "# setup lens model class with the list of lens models #\n",
    "lensModel = LensModel(lens_model_list=lens_model_list)\n",
    "\n",
    "# define parameter values of lens models #\n",
    "kwargs_spep = {'theta_E': 1.1, 'e1': 0.05, 'e2': 0.05, 'gamma': 2., 'center_x': 0.1, 'center_y': 0}\n",
    "kwargs_shear = {'gamma_ext': 0.01, 'psi_ext': -1.}\n",
    "kwargs_sis = {'theta_E': 0.1, 'center_x': 1., 'center_y': -0.1}\n",
    "kwargs_lens = [kwargs_spep, kwargs_shear, kwargs_sis]\n",
    "\n",
    "# image plane coordinate #\n",
    "theta_ra, theta_dec = .9, .4\n",
    "\n",
    "# source plane coordinate #\n",
    "beta_ra, beta_dec = lensModel.ray_shooting(theta_ra, theta_dec, kwargs_lens)\n",
    "# Fermat potential #\n",
    "fermat_pot = lensModel.fermat_potential(x_image=theta_ra, y_image=theta_dec, x_source=beta_ra, y_source=beta_dec, kwargs_lens=kwargs_lens)\n",
    "\n",
    "# Magnification #\n",
    "mag = lensModel.magnification(theta_ra, theta_dec, kwargs_lens)\n"
   ]
  },
  {
   "cell_type": "code",
   "execution_count": 7,
   "metadata": {},
   "outputs": [],
   "source": [
    "# ellipticity definitions:\n",
    "import lenstronomy.Util.param_util as param_util\n",
    "\n",
    "# axis ratio (minor/major axis)\n",
    "q = 0.8\n",
    "# angle of major axis (radian)\n",
    "phi = 0.5\n",
    "e1, e2 = param_util.phi_q2_ellipticity(phi=phi, q=q)\n",
    "# inverse transformation\n",
    "phi, q = param_util.ellipticity2phi_q(e1, e2)\n",
    "\n",
    "# shear definition:\n",
    "\n",
    "# shear strength\n",
    "gamma = 0.1\n",
    "# shear direction\n",
    "phi_gamma = -0.5\n",
    "# distortion matrix\n",
    "gamma1, gamma2 = param_util.phi_gamma_ellipticity(phi=phi_gamma, gamma=gamma)\n",
    "# inverse transform\n",
    "phi_gamma, gamma = param_util.ellipticity2phi_gamma(gamma1, gamma2)"
   ]
  },
  {
   "cell_type": "code",
   "execution_count": 8,
   "metadata": {},
   "outputs": [],
   "source": [
    "# keep the imports and variables from above #\n",
    "# specify redshifts of deflectors #\n",
    "redshift_list = [0.5, 0.5, .1]\n",
    "# specify source redshift #\n",
    "z_source = 1.5\n",
    "# setup lens model class with the list of lens models #\n",
    "lensModel_mp = LensModel(lens_model_list=lens_model_list, z_source=z_source, lens_redshift_list=redshift_list, multi_plane=True)\n",
    "\n",
    "# source plane coordinate #\n",
    "beta_ra, beta_dec = lensModel_mp.ray_shooting(theta_ra, theta_dec, kwargs_lens)\n",
    "\n",
    "# Magnification #\n",
    "mag = lensModel_mp.magnification(theta_ra, theta_dec, kwargs_lens)\n",
    "\n",
    "# arrival time relative to a straight path through (0,0) #\n",
    "dt = lensModel_mp.arrival_time(theta_ra, theta_dec, kwargs_lens)"
   ]
  },
  {
   "cell_type": "code",
   "execution_count": 9,
   "metadata": {},
   "outputs": [],
   "source": [
    "# keep the imports and variables from above #\n",
    "# import the lens equation solver class #\n",
    "from lenstronomy.LensModel.Solver.lens_equation_solver import LensEquationSolver\n",
    "\n",
    "# specifiy the lens model class to deal with #\n",
    "solver = LensEquationSolver(lensModel)\n",
    "\n",
    "# solve for image positions provided a lens model and the source position #\n",
    "theta_ra, theta_dec = solver.image_position_from_source(beta_ra, beta_dec, kwargs_lens)\n",
    "\n",
    "# the magnification of the point source images #\n",
    "mag = lensModel.magnification(theta_ra, theta_dec, kwargs_lens)"
   ]
  },
  {
   "cell_type": "code",
   "execution_count": 10,
   "metadata": {},
   "outputs": [
    {
     "name": "stderr",
     "output_type": "stream",
     "text": [
      "/home/clarko/anaconda3/envs/lenstronomy/lib/python3.7/site-packages/ipykernel_launcher.py:5: UserWarning: Matplotlib is currently using module://ipykernel.pylab.backend_inline, which is a non-GUI backend, so cannot show the figure.\n",
      "  \"\"\"\n"
     ]
    },
    {
     "data": {
      "image/png": "[encoded data removed]",
      "text/plain": [
       "<Figure size 720x360 with 2 Axes>"
      ]
     },
     "metadata": {
      "needs_background": "light"
     },
     "output_type": "display_data"
    }
   ],
   "source": [
    "import lenstronomy.Plots.output_plots as lens_plot\n",
    "f, axex = plt.subplots(1, 2, figsize=(10, 5), sharex=False, sharey=False)\n",
    "lens_plot.lens_model_plot(axex[0], lensModel=lensModel, kwargs_lens=kwargs_lens, sourcePos_x=beta_ra, sourcePos_y=beta_dec, point_source=True, with_caustics=False)\n",
    "lens_plot.lens_model_plot(axex[1], lensModel=lensModel_mp, kwargs_lens=kwargs_lens, sourcePos_x=beta_ra, sourcePos_y=beta_dec, point_source=True, with_caustics=False)\n",
    "f.show()"
   ]
  },
  {
   "cell_type": "code",
   "execution_count": null,
   "metadata": {},
   "outputs": [],
   "source": []
  },
  {
   "cell_type": "code",
   "execution_count": null,
   "metadata": {},
   "outputs": [],
   "source": []
  },
  {
   "cell_type": "code",
   "execution_count": null,
   "metadata": {},
   "outputs": [],
   "source": []
  },
  {
   "cell_type": "code",
   "execution_count": null,
   "metadata": {},
   "outputs": [],
   "source": []
  },
  {
   "cell_type": "code",
   "execution_count": null,
   "metadata": {},
   "outputs": [],
   "source": []
  },
  {
   "cell_type": "code",
   "execution_count": null,
   "metadata": {},
   "outputs": [],
   "source": []
  },
  {
   "cell_type": "code",
   "execution_count": null,
   "metadata": {},
   "outputs": [],
   "source": []
  },
  {
   "cell_type": "code",
   "execution_count": null,
   "metadata": {},
   "outputs": [],
   "source": []
  },
  {
   "cell_type": "code",
   "execution_count": null,
   "metadata": {},
   "outputs": [],
   "source": []
  },
  {
   "cell_type": "code",
   "execution_count": null,
   "metadata": {},
   "outputs": [],
   "source": []
  },
  {
   "cell_type": "code",
   "execution_count": null,
   "metadata": {},
   "outputs": [],
   "source": []
  },
  {
   "cell_type": "code",
   "execution_count": null,
   "metadata": {},
   "outputs": [],
   "source": []
  },
  {
   "cell_type": "code",
   "execution_count": null,
   "metadata": {},
   "outputs": [],
   "source": []
  },
  {
   "cell_type": "code",
   "execution_count": null,
   "metadata": {},
   "outputs": [],
   "source": []
  },
  {
   "cell_type": "code",
   "execution_count": null,
   "metadata": {},
   "outputs": [],
   "source": []
  },
  {
   "cell_type": "code",
   "execution_count": null,
   "metadata": {},
   "outputs": [],
   "source": []
  },
  {
   "cell_type": "code",
   "execution_count": null,
   "metadata": {},
   "outputs": [],
   "source": []
  }
 ],
 "metadata": {
  "kernelspec": {
   "display_name": "Python 3",
   "language": "python",
   "name": "python3"
  },
  "language_info": {
   "codemirror_mode": {
    "name": "ipython",
    "version": 3
   },
   "file_extension": ".py",
   "mimetype": "text/x-python",
   "name": "python",
   "nbconvert_exporter": "python",
   "pygments_lexer": "ipython3",
   "version": "3.7.3"
  }
 },
 "nbformat": 4,
 "nbformat_minor": 2
}
