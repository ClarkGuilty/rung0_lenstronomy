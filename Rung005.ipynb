{
 "cells": [
  {
   "cell_type": "code",
   "execution_count": null,
   "metadata": {},
   "outputs": [],
   "source": [
    "#LLAMANDO LIBRERIAS DE LENSTRONOMY\n",
    "import numpy as np\n",
    "import time\n",
    "import corner\n",
    "import matplotlib.pyplot as plt\n",
    "import matplotlib\n",
    "import os\n",
    "import copy\n",
    "import astropy.io.fits as pyfits\n",
    "\n",
    "\n",
    "from mpl_toolkits.axes_grid1 import make_axes_locatable\n",
    "%matplotlib inline\n",
    "\n",
    "import lenstronomy.Util.simulation_util as sim_util\n",
    "import lenstronomy.Util.image_util as image_util\n",
    "import lenstronomy.Plots.output_plots as lens_plot\n",
    "\n",
    "from lenstronomy.Util import constants\n",
    "\n",
    "from lenstronomy.ImSim.image_model import ImageModel\n",
    "\n",
    "from lenstronomy.PointSource.point_source import PointSource\n",
    "\n",
    "from lenstronomy.LensModel.lens_model import LensModel\n",
    "from lenstronomy.LensModel.Solver.lens_equation_solver import LensEquationSolver\n",
    "from lenstronomy.LensModel.lens_model_extensions import LensModelExtensions\n",
    "\n",
    "from lenstronomy.LightModel.light_model import LightModel\n",
    "\n",
    "from lenstronomy.Sampling.parameters import Param\n",
    "\n",
    "from lenstronomy.Data.imaging_data import ImageData\n",
    "from lenstronomy.Data.psf import PSF\n",
    "\n",
    "from lenstronomy.Cosmo.lens_cosmo import LensCosmo\n",
    "\n",
    "from astropy.cosmology import FlatLambdaCDM\n",
    "\n",
    "import matplotlib.pyplot as plt\n",
    "%matplotlib inline"
   ]
  },
  {
   "cell_type": "code",
   "execution_count": null,
   "metadata": {},
   "outputs": [],
   "source": [
    "# VAMOS A REALIZAR LA CONSTRUCCION DEL LENTE USANDO SPEMD, SHEAR DEBIDO A QUE SABEMOS LOS RESULTADOS DEL RUNG0\n",
    "# SIN EMBARGO ES NECESARIO REALIZARLOS HACIENDO LAS COMBINACIONES NECESARIAS\n",
    "\n",
    "# Con la ayuda de IRAF deterinamos la ubicacion en pixeles, sabiendo que cada pixel son 0.08\" para drizzzle images\n",
    "# el centro esta ubicado en pixeles x = 49.5 y = 50\n",
    "x_A = 0.08\n",
    "x_B = -1.12\n",
    "x_C = 1.24\n",
    "x_D = -0.25\n",
    "\n",
    "y_A = -1.09\n",
    "y_B = -0.28\n",
    "y_C = 0.21\n",
    "y_D = 1.07\n",
    "# unidades en segundos de arco\n",
    "\n",
    "# definimos valores de excentricidades completamente arbitrarios, incialmente\n",
    "# pilas existen diferente tipos de excentricidades\n",
    "# excentricidad para la lente, excentricidad de la fuente y excentricidad para el perfil de luz\n",
    "# Determinamos phi de cada estrella, en teoria es el mismo para todos\n",
    "\n"
   ]
  }
 ],
 "metadata": {
  "kernelspec": {
   "display_name": "Python 3",
   "language": "python",
   "name": "python3"
  },
  "language_info": {
   "codemirror_mode": {
    "name": "ipython",
    "version": 3
   },
   "file_extension": ".py",
   "mimetype": "text/x-python",
   "name": "python",
   "nbconvert_exporter": "python",
   "pygments_lexer": "ipython3",
   "version": "3.7.3"
  }
 },
 "nbformat": 4,
 "nbformat_minor": 2
}
